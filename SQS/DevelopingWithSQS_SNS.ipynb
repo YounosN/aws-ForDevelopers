{
 "cells": [
  {
   "cell_type": "markdown",
   "metadata": {},
   "source": [
    "# Working with AWS SQS\n",
    "\n",
    "\n",
    "## Purpose\n",
    "This notebook is desinged for AWS developers to play around different ways to interact with AWS SQS.\n"
   ]
  },
  {
   "cell_type": "markdown",
   "metadata": {},
   "source": [
    "# Setup\n",
    "\n",
    "## Import Libraries\n",
    "We import all the required Python libraries."
   ]
  },
  {
   "cell_type": "code",
   "execution_count": 1,
   "metadata": {},
   "outputs": [],
   "source": [
    "import boto3\n",
    "from botocore.exceptions import ClientError\n",
    "import json\n",
    "import decimal"
   ]
  },
  {
   "cell_type": "code",
   "execution_count": 2,
   "metadata": {},
   "outputs": [
    {
     "data": {
      "text/plain": [
       "'1.20.24'"
      ]
     },
     "execution_count": 2,
     "metadata": {},
     "output_type": "execute_result"
    }
   ],
   "source": [
    "boto3.__version__"
   ]
  },
  {
   "cell_type": "code",
   "execution_count": 3,
   "metadata": {},
   "outputs": [],
   "source": [
    "#Determine which credentials(profile) to use embeded in .aws/config file.\n",
    "boto3 = boto3.session.Session(profile_name='AWS-DEMO')"
   ]
  },
  {
   "cell_type": "markdown",
   "metadata": {},
   "source": [
    "## Load DynamoDB in us-west-2 region"
   ]
  },
  {
   "cell_type": "code",
   "execution_count": 4,
   "metadata": {},
   "outputs": [],
   "source": [
    "sqs = boto3.resource('sqs', region_name='us-west-2')"
   ]
  },
  {
   "cell_type": "code",
   "execution_count": 5,
   "metadata": {},
   "outputs": [],
   "source": [
    "# Create a queue named Demo\n",
    "queue = sqs.create_queue(QueueName='Demo', Attributes={'DelaySeconds': '5'})"
   ]
  },
  {
   "cell_type": "code",
   "execution_count": 6,
   "metadata": {},
   "outputs": [
    {
     "data": {
      "text/plain": [
       "'https://us-west-2.queue.amazonaws.com/465968594676/Demo'"
      ]
     },
     "execution_count": 6,
     "metadata": {},
     "output_type": "execute_result"
    }
   ],
   "source": [
    "queue.url"
   ]
  },
  {
   "cell_type": "code",
   "execution_count": 7,
   "metadata": {},
   "outputs": [
    {
     "name": "stdout",
     "output_type": "stream",
     "text": [
      "https://us-west-2.queue.amazonaws.com/465968594676/Demo\n",
      "https://us-west-2.queue.amazonaws.com/465968594676/DemoQueue\n",
      "https://us-west-2.queue.amazonaws.com/465968594676/Whatever\n"
     ]
    }
   ],
   "source": [
    "# Print out each queue name, which is part of its ARN\n",
    "for queue in sqs.queues.all():\n",
    "    print(queue.url)"
   ]
  },
  {
   "cell_type": "code",
   "execution_count": 8,
   "metadata": {},
   "outputs": [
    {
     "data": {
      "text/plain": [
       "{'MD5OfMessageBody': '2aef66df948230da93b11aa26264f5e4',\n",
       " 'MessageId': '5ffb8fa7-0374-4abf-945d-ddaedecc97cf',\n",
       " 'ResponseMetadata': {'RequestId': 'e5509747-aeee-54a9-a035-cd2cc92fea3e',\n",
       "  'HTTPStatusCode': 200,\n",
       "  'HTTPHeaders': {'x-amzn-requestid': 'e5509747-aeee-54a9-a035-cd2cc92fea3e',\n",
       "   'date': 'Wed, 26 Jan 2022 15:15:13 GMT',\n",
       "   'content-type': 'text/xml',\n",
       "   'content-length': '378'},\n",
       "  'RetryAttempts': 0}}"
      ]
     },
     "execution_count": 8,
     "metadata": {},
     "output_type": "execute_result"
    }
   ],
   "source": [
    "# Create a new message\n",
    "response = queue.send_message(MessageBody='Welcome to Developing on AWS!')\n",
    "response"
   ]
  },
  {
   "cell_type": "code",
   "execution_count": 9,
   "metadata": {},
   "outputs": [
    {
     "data": {
      "text/plain": [
       "'5ffb8fa7-0374-4abf-945d-ddaedecc97cf'"
      ]
     },
     "execution_count": 9,
     "metadata": {},
     "output_type": "execute_result"
    }
   ],
   "source": [
    "response.get('MessageId')"
   ]
  },
  {
   "cell_type": "code",
   "execution_count": 10,
   "metadata": {},
   "outputs": [
    {
     "data": {
      "text/plain": [
       "'2aef66df948230da93b11aa26264f5e4'"
      ]
     },
     "execution_count": 10,
     "metadata": {},
     "output_type": "execute_result"
    }
   ],
   "source": [
    "response.get('MD5OfMessageBody')"
   ]
  },
  {
   "cell_type": "code",
   "execution_count": 11,
   "metadata": {},
   "outputs": [
    {
     "name": "stdout",
     "output_type": "stream",
     "text": [
      "None\n"
     ]
    }
   ],
   "source": [
    "#Messages can also be sent in batches. \n",
    "#For example, sending the two messages described above in a single request would look like the following:\n",
    "\n",
    "response = queue.send_messages(Entries=[\n",
    "    {\n",
    "        'Id': '1',\n",
    "        'MessageBody': 'You are the best students in the world!'\n",
    "    },\n",
    "    {\n",
    "        'Id': '2',\n",
    "        'MessageBody': 'Hello im boto3',\n",
    "        'MessageAttributes': {\n",
    "            'Author': {\n",
    "                'StringValue': 'Younos',\n",
    "                'DataType': 'String'\n",
    "            }\n",
    "        }\n",
    "    }\n",
    "])\n",
    "\n",
    "# Print out any failures\n",
    "print(response.get('Failed'))"
   ]
  },
  {
   "cell_type": "code",
   "execution_count": 25,
   "metadata": {
    "scrolled": true
   },
   "outputs": [],
   "source": [
    "# Process messages by printing out body and optional author name\n",
    "for message in queue.receive_messages(MessageAttributeNames=['Author']):\n",
    "    # Get the custom author message attribute if it was set\n",
    "    author_text = ''\n",
    "    if message.message_attributes is not None:\n",
    "        author_name = message.message_attributes.get('Author').get('StringValue')\n",
    "        if author_name:\n",
    "            author_text = ' ({0})'.format(author_name)\n",
    "\n",
    "    # Print out the body and author (if set)\n",
    "    print('Hello, {0}!{1}'.format(message.body, author_text))\n",
    "\n",
    "    # Let the queue know that the message is processed\n",
    "    message.delete()"
   ]
  },
  {
   "cell_type": "code",
   "execution_count": 26,
   "metadata": {},
   "outputs": [
    {
     "data": {
      "text/plain": [
       "{'ResponseMetadata': {'RequestId': '8168daf3-418c-5406-b8fd-809829b16a91',\n",
       "  'HTTPStatusCode': 200,\n",
       "  'HTTPHeaders': {'x-amzn-requestid': '8168daf3-418c-5406-b8fd-809829b16a91',\n",
       "   'date': 'Wed, 26 Jan 2022 15:17:17 GMT',\n",
       "   'content-type': 'text/xml',\n",
       "   'content-length': '211'},\n",
       "  'RetryAttempts': 0}}"
      ]
     },
     "execution_count": 26,
     "metadata": {},
     "output_type": "execute_result"
    }
   ],
   "source": [
    "sqs.meta.client.delete_queue(QueueUrl=queue.url)"
   ]
  }
 ],
 "metadata": {
  "kernelspec": {
   "display_name": "Python 3 (ipykernel)",
   "language": "python",
   "name": "python3"
  },
  "language_info": {
   "codemirror_mode": {
    "name": "ipython",
    "version": 3
   },
   "file_extension": ".py",
   "mimetype": "text/x-python",
   "name": "python",
   "nbconvert_exporter": "python",
   "pygments_lexer": "ipython3",
   "version": "3.10.0"
  }
 },
 "nbformat": 4,
 "nbformat_minor": 4
}
