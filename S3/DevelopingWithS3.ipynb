{
 "cells": [
  {
   "cell_type": "markdown",
   "metadata": {},
   "source": [
    "# Working with AWS S3\n",
    "\n",
    "\n",
    "## Purpose\n",
    "This notebook is desinged for AWS developers to play around and explore different ways to interact with AWS S3.\n"
   ]
  },
  {
   "cell_type": "markdown",
   "metadata": {},
   "source": [
    "# Setup\n",
    "\n",
    "## Import Libraries\n",
    "We import all the required Python libraries."
   ]
  },
  {
   "cell_type": "code",
   "execution_count": null,
   "metadata": {},
   "outputs": [],
   "source": [
    "#!pip install shortuuid"
   ]
  },
  {
   "cell_type": "code",
   "execution_count": 1,
   "metadata": {},
   "outputs": [],
   "source": [
    "import logging\n",
    "import shortuuid\n",
    "import boto3\n",
    "from botocore.exceptions import ClientError"
   ]
  },
  {
   "cell_type": "code",
   "execution_count": 2,
   "metadata": {},
   "outputs": [
    {
     "data": {
      "text/plain": [
       "'1.22.9'"
      ]
     },
     "execution_count": 2,
     "metadata": {},
     "output_type": "execute_result"
    }
   ],
   "source": [
    "boto3.__version__"
   ]
  },
  {
   "cell_type": "code",
   "execution_count": 3,
   "metadata": {},
   "outputs": [],
   "source": [
    "#Determine which credentials(profile) to use embeded in .aws/config file.\n",
    "boto3 = boto3.session.Session(profile_name='AWS-DEMO')"
   ]
  },
  {
   "cell_type": "code",
   "execution_count": 4,
   "metadata": {},
   "outputs": [],
   "source": [
    "s3 = boto3.resource('s3')"
   ]
  },
  {
   "cell_type": "markdown",
   "metadata": {},
   "source": [
    "## Create S3 buckets\n"
   ]
  },
  {
   "cell_type": "code",
   "execution_count": 5,
   "metadata": {},
   "outputs": [],
   "source": [
    "# Generate a bucket name consisting of an arbitrary prefix and a random string.\n",
    "def create_bucket_name(bucket_prefix):\n",
    "    return '-'.join([bucket_prefix, str.lower(shortuuid.uuid())])"
   ]
  },
  {
   "cell_type": "code",
   "execution_count": 6,
   "metadata": {},
   "outputs": [],
   "source": [
    "# The default region would be us-east-1(N.Virgina) unless specified.\n",
    "def create_bucket(bucket_prefix, region=None):\n",
    "    # Create bucket\n",
    "    bucket_name = create_bucket_name(bucket_prefix)\n",
    "    try:\n",
    "        if region is None:\n",
    "            s3 = boto3.resource('s3')\n",
    "            s3.create_bucket(Bucket=bucket_name)\n",
    "        elif region == \"us-east-1\":\n",
    "            s3 = boto3.resource('s3')\n",
    "            s3.create_bucket(Bucket=bucket_name)        \n",
    "        else:\n",
    "            s3 = boto3.resource('s3', region_name=region)\n",
    "            location = {'LocationConstraint': region}\n",
    "            s3.create_bucket(Bucket=bucket_name,\n",
    "                             CreateBucketConfiguration=location)\n",
    "    except ClientError as e:\n",
    "        logging.error(e)\n",
    "        return False\n",
    "    return True\n"
   ]
  },
  {
   "cell_type": "code",
   "execution_count": 7,
   "metadata": {},
   "outputs": [
    {
     "data": {
      "text/plain": [
       "True"
      ]
     },
     "execution_count": 7,
     "metadata": {},
     "output_type": "execute_result"
    }
   ],
   "source": [
    "# Create a bucket with your favorite prefix. And optionally, specify a region.\n",
    "# Your buckets will be created in the us-east-1 region otherwise.\n",
    "create_bucket(\"chameleon\")\n",
    "create_bucket(\"godzilla\", region=\"us-west-2\")"
   ]
  },
  {
   "cell_type": "code",
   "execution_count": 8,
   "metadata": {},
   "outputs": [
    {
     "name": "stdout",
     "output_type": "stream",
     "text": [
      "aws-cloudtrail-logs-465968594676-ace7d89f\n",
      "cf-temps\n",
      "chameleon-8nxvf2bihsjkeisz5cctze\n",
      "config-bucket-465968594676\n",
      "dev-course-4\n",
      "dev-course-4-pollynotesapi-1it5qucgww02t\n",
      "dev-course-4-pollynotesweb-1lo5f3h0y29si\n",
      "dragon-lkj4rn23\n",
      "godzilla-2swbij7kajexowexanw9p3\n",
      "input-aksfj324lk5324lkjsdfl\n",
      "output-ksdflkjwer23421\n",
      "thebestfoodever\n",
      "thebestfoodever-australia\n"
     ]
    }
   ],
   "source": [
    "# List all buckets – Easy Way (resource-API way)\n",
    "buckets = []\n",
    "for bucket in s3.buckets.all():\n",
    "    buckets.append(bucket.name)\n",
    "    print(bucket.name)"
   ]
  },
  {
   "cell_type": "code",
   "execution_count": 9,
   "metadata": {},
   "outputs": [
    {
     "data": {
      "text/plain": [
       "'godzilla-2swbij7kajexowexanw9p3'"
      ]
     },
     "execution_count": 9,
     "metadata": {},
     "output_type": "execute_result"
    }
   ],
   "source": [
    "my_bucket = [i for i in buckets if i.startswith('godzilla-')]\n",
    "my_bucket = my_bucket[0]\n",
    "my_bucket"
   ]
  },
  {
   "cell_type": "code",
   "execution_count": 10,
   "metadata": {},
   "outputs": [
    {
     "data": {
      "text/plain": [
       "{'ResponseMetadata': {'RequestId': '92WVDCK24W4QC0RD',\n",
       "  'HostId': 'Z75l8uyE0Zn68828gfic8863hCs/mg5GqKwNGhN023HZFHnS0lVUkvMyWK9FqvTlkbro+sDXDSo=',\n",
       "  'HTTPStatusCode': 200,\n",
       "  'HTTPHeaders': {'x-amz-id-2': 'Z75l8uyE0Zn68828gfic8863hCs/mg5GqKwNGhN023HZFHnS0lVUkvMyWK9FqvTlkbro+sDXDSo=',\n",
       "   'x-amz-request-id': '92WVDCK24W4QC0RD',\n",
       "   'date': 'Tue, 19 Jul 2022 19:16:04 GMT',\n",
       "   'server': 'AmazonS3',\n",
       "   'content-length': '0'},\n",
       "  'RetryAttempts': 1}}"
      ]
     },
     "execution_count": 10,
     "metadata": {},
     "output_type": "execute_result"
    }
   ],
   "source": [
    "s3.BucketVersioning(my_bucket).enable()"
   ]
  },
  {
   "cell_type": "code",
   "execution_count": 11,
   "metadata": {},
   "outputs": [
    {
     "data": {
      "text/plain": [
       "{'ResponseMetadata': {'RequestId': '53JSR4S8G5FKG1WF',\n",
       "  'HostId': 'PgsQOoGpBhGHyIXo9nRlh9O4kMUvpp3Ja4JzpQRYaYWA0CsFE8OjVibT5aOTxp11bOt+joQSyD4=',\n",
       "  'HTTPStatusCode': 200,\n",
       "  'HTTPHeaders': {'x-amz-id-2': 'PgsQOoGpBhGHyIXo9nRlh9O4kMUvpp3Ja4JzpQRYaYWA0CsFE8OjVibT5aOTxp11bOt+joQSyD4=',\n",
       "   'x-amz-request-id': '53JSR4S8G5FKG1WF',\n",
       "   'date': 'Tue, 19 Jul 2022 19:17:21 GMT',\n",
       "   'content-type': 'application/xml',\n",
       "   'transfer-encoding': 'chunked',\n",
       "   'server': 'AmazonS3'},\n",
       "  'RetryAttempts': 0},\n",
       " 'Buckets': [{'Name': 'aws-cloudtrail-logs-465968594676-ace7d89f',\n",
       "   'CreationDate': datetime.datetime(2022, 2, 21, 13, 57, 28, tzinfo=tzutc())},\n",
       "  {'Name': 'cf-temps',\n",
       "   'CreationDate': datetime.datetime(2022, 2, 21, 14, 16, 36, tzinfo=tzutc())},\n",
       "  {'Name': 'chameleon-8nxvf2bihsjkeisz5cctze',\n",
       "   'CreationDate': datetime.datetime(2022, 7, 19, 19, 14, 48, tzinfo=tzutc())},\n",
       "  {'Name': 'config-bucket-465968594676',\n",
       "   'CreationDate': datetime.datetime(2022, 2, 21, 14, 13, 4, tzinfo=tzutc())},\n",
       "  {'Name': 'dev-course-4',\n",
       "   'CreationDate': datetime.datetime(2022, 3, 4, 20, 35, 5, tzinfo=tzutc())},\n",
       "  {'Name': 'dev-course-4-pollynotesapi-1it5qucgww02t',\n",
       "   'CreationDate': datetime.datetime(2022, 7, 19, 3, 5, 9, tzinfo=tzutc())},\n",
       "  {'Name': 'dev-course-4-pollynotesweb-1lo5f3h0y29si',\n",
       "   'CreationDate': datetime.datetime(2022, 7, 19, 3, 5, 10, tzinfo=tzutc())},\n",
       "  {'Name': 'dragon-lkj4rn23',\n",
       "   'CreationDate': datetime.datetime(2022, 7, 19, 17, 19, 57, tzinfo=tzutc())},\n",
       "  {'Name': 'godzilla-2swbij7kajexowexanw9p3',\n",
       "   'CreationDate': datetime.datetime(2022, 7, 19, 19, 14, 49, tzinfo=tzutc())},\n",
       "  {'Name': 'input-aksfj324lk5324lkjsdfl',\n",
       "   'CreationDate': datetime.datetime(2021, 2, 23, 12, 8, tzinfo=tzutc())},\n",
       "  {'Name': 'output-ksdflkjwer23421',\n",
       "   'CreationDate': datetime.datetime(2021, 6, 9, 6, 57, 14, tzinfo=tzutc())},\n",
       "  {'Name': 'thebestfoodever',\n",
       "   'CreationDate': datetime.datetime(2021, 1, 17, 18, 52, 20, tzinfo=tzutc())},\n",
       "  {'Name': 'thebestfoodever-australia',\n",
       "   'CreationDate': datetime.datetime(2021, 6, 23, 11, 38, tzinfo=tzutc())}],\n",
       " 'Owner': {'DisplayName': 'kryptomesh+awsdemo',\n",
       "  'ID': '59e890cb6faeadf1ebfd2caf7fa3a7ac128482f1fafc6d08c4ec80234a698dc4'}}"
      ]
     },
     "execution_count": 11,
     "metadata": {},
     "output_type": "execute_result"
    }
   ],
   "source": [
    "# Create a list of all buckets' information and print the response. (hard way or client-api way)\n",
    "response = s3.meta.client.list_buckets()\n",
    "response"
   ]
  },
  {
   "cell_type": "code",
   "execution_count": 12,
   "metadata": {
    "scrolled": true
   },
   "outputs": [
    {
     "name": "stdout",
     "output_type": "stream",
     "text": [
      "aws-cloudtrail-logs-465968594676-ace7d89f\n",
      "cf-temps\n",
      "chameleon-8nxvf2bihsjkeisz5cctze\n",
      "config-bucket-465968594676\n",
      "dev-course-4\n",
      "dev-course-4-pollynotesapi-1it5qucgww02t\n",
      "dev-course-4-pollynotesweb-1lo5f3h0y29si\n",
      "dragon-lkj4rn23\n",
      "godzilla-2swbij7kajexowexanw9p3\n",
      "input-aksfj324lk5324lkjsdfl\n",
      "output-ksdflkjwer23421\n",
      "thebestfoodever\n",
      "thebestfoodever-australia\n"
     ]
    }
   ],
   "source": [
    "# Extract and list bucket names\n",
    "for bucket in response['Buckets']:\n",
    "    print(f'{bucket[\"Name\"]}')"
   ]
  },
  {
   "cell_type": "markdown",
   "metadata": {},
   "source": [
    "## Create some files"
   ]
  },
  {
   "cell_type": "code",
   "execution_count": 13,
   "metadata": {},
   "outputs": [],
   "source": [
    "import os\n",
    "if not os.path.exists('./tmp/'):\n",
    "    os.makedirs('./tmp/')"
   ]
  },
  {
   "cell_type": "code",
   "execution_count": 14,
   "metadata": {},
   "outputs": [],
   "source": [
    "def create_temp_file(size, file_name, file_content, extention=\".txt\", path='./tmp/'):\n",
    "    random_file_name = ''.join([file_name, shortuuid.uuid(), extention])\n",
    "    with open(path + random_file_name, 'w') as temp:\n",
    "        temp.write(str(file_content) * size)\n",
    "    return random_file_name"
   ]
  },
  {
   "cell_type": "code",
   "execution_count": 15,
   "metadata": {},
   "outputs": [],
   "source": [
    "KB = 1024\n",
    "MB = KB * KB\n",
    "temp_file = create_temp_file(200 * KB, 'temp', 'xyz', '.mp4')"
   ]
  },
  {
   "cell_type": "markdown",
   "metadata": {},
   "source": [
    "## Upload files"
   ]
  },
  {
   "cell_type": "code",
   "execution_count": 16,
   "metadata": {},
   "outputs": [],
   "source": [
    "def upload_file(bucket, file_name, path='./tmp/'):\n",
    "    \n",
    "    # Upload a file\n",
    "    s3 = boto3.resource('s3')\n",
    "    try:\n",
    "        obj = s3.Object(bucket, file_name)\n",
    "        obj.upload_file(Filename=path + file_name)\n",
    "    except ClientError as e:\n",
    "        logging.error(e)\n",
    "        return False\n",
    "    return True"
   ]
  },
  {
   "cell_type": "code",
   "execution_count": 17,
   "metadata": {},
   "outputs": [
    {
     "data": {
      "text/plain": [
       "True"
      ]
     },
     "execution_count": 17,
     "metadata": {},
     "output_type": "execute_result"
    }
   ],
   "source": [
    "upload_file(my_bucket, temp_file)"
   ]
  },
  {
   "cell_type": "code",
   "execution_count": 18,
   "metadata": {},
   "outputs": [
    {
     "name": "stdout",
     "output_type": "stream",
     "text": [
      "tempTiQkGynqMXXjXoi4wnd3UZ.mp4\n"
     ]
    }
   ],
   "source": [
    "bucket = s3.Bucket(my_bucket)\n",
    "for obj in bucket.objects.all():\n",
    "    print(obj.key)"
   ]
  },
  {
   "cell_type": "markdown",
   "metadata": {},
   "source": [
    "## Upload Files (Encryption Enabled)"
   ]
  },
  {
   "cell_type": "code",
   "execution_count": 19,
   "metadata": {},
   "outputs": [],
   "source": [
    "def upload_file(bucket, file_name, path='./tmp/'):\n",
    "    \n",
    "    # Upload a file\n",
    "    s3 = boto3.resource('s3')\n",
    "    try:\n",
    "        obj = s3.Object(bucket, file_name)\n",
    "        obj.upload_file(Filename=path + file_name,\n",
    "                        ExtraArgs={\n",
    "                            'ServerSideEncryption': 'AES256'})\n",
    "    except ClientError as e:\n",
    "        logging.error(e)\n",
    "        return False\n",
    "    return True"
   ]
  },
  {
   "cell_type": "code",
   "execution_count": 20,
   "metadata": {},
   "outputs": [
    {
     "data": {
      "text/plain": [
       "True"
      ]
     },
     "execution_count": 20,
     "metadata": {},
     "output_type": "execute_result"
    }
   ],
   "source": [
    "upload_file(my_bucket, temp_file)"
   ]
  },
  {
   "cell_type": "code",
   "execution_count": 21,
   "metadata": {},
   "outputs": [
    {
     "name": "stdout",
     "output_type": "stream",
     "text": [
      "tempTiQkGynqMXXjXoi4wnd3UZ.mp4\n"
     ]
    }
   ],
   "source": [
    "bucket = s3.Bucket(my_bucket)\n",
    "for obj in bucket.objects.all():\n",
    "    print(obj.key)"
   ]
  },
  {
   "cell_type": "markdown",
   "metadata": {},
   "source": [
    "## Multi-Part Upload"
   ]
  },
  {
   "cell_type": "code",
   "execution_count": 22,
   "metadata": {},
   "outputs": [],
   "source": [
    "from boto3.s3.transfer import TransferConfig"
   ]
  },
  {
   "cell_type": "code",
   "execution_count": 23,
   "metadata": {},
   "outputs": [],
   "source": [
    "KB = 1024\n",
    "MB = KB * KB\n",
    "config = TransferConfig(multipart_threshold=4 * MB, \n",
    "                        max_concurrency=10,\n",
    "                        multipart_chunksize=4 * MB,\n",
    "                        use_threads=True)"
   ]
  },
  {
   "cell_type": "code",
   "execution_count": 24,
   "metadata": {},
   "outputs": [],
   "source": [
    "def multipart_upload_file(bucket, file_name, path='./tmp/'):\n",
    "    \n",
    "    # Upload the file\n",
    "    s3 = boto3.resource('s3')\n",
    "    try:\n",
    "        obj = s3.Object(bucket, file_name)\n",
    "        obj.upload_file(Filename=path + file_name,\n",
    "                        Config=config,\n",
    "                        ExtraArgs={\n",
    "                            'ServerSideEncryption': 'AES256'})\n",
    "    except ClientError as e:\n",
    "        logging.error(e)\n",
    "        return False\n",
    "    return True"
   ]
  },
  {
   "cell_type": "code",
   "execution_count": 25,
   "metadata": {},
   "outputs": [],
   "source": [
    "KB = 1024\n",
    "MB = KB * KB\n",
    "large_file = create_temp_file(10 * MB, 'temp', 'xyz', '.mp4')"
   ]
  },
  {
   "cell_type": "code",
   "execution_count": 26,
   "metadata": {},
   "outputs": [
    {
     "data": {
      "text/plain": [
       "True"
      ]
     },
     "execution_count": 26,
     "metadata": {},
     "output_type": "execute_result"
    }
   ],
   "source": [
    "upload_file(my_bucket, large_file)"
   ]
  },
  {
   "cell_type": "code",
   "execution_count": 27,
   "metadata": {},
   "outputs": [
    {
     "name": "stdout",
     "output_type": "stream",
     "text": [
      "tempKVbv54ZGm6XRTwvyiM3E8D.mp4\n",
      "tempTiQkGynqMXXjXoi4wnd3UZ.mp4\n"
     ]
    }
   ],
   "source": [
    "bucket = s3.Bucket(my_bucket)\n",
    "for obj in bucket.objects.all():\n",
    "    print(obj.key)"
   ]
  },
  {
   "cell_type": "markdown",
   "metadata": {},
   "source": [
    "## Delete all S3 buckets and Objects inside"
   ]
  },
  {
   "cell_type": "code",
   "execution_count": 28,
   "metadata": {},
   "outputs": [],
   "source": [
    "def delete_all_objects(bucket_name):\n",
    "    res = []\n",
    "    bucket=s3.Bucket(bucket_name)\n",
    "    for obj_version in bucket.object_versions.all():\n",
    "        res.append({'Key': obj_version.object_key,\n",
    "                    'VersionId': obj_version.id})\n",
    "#    print(res)\n",
    "    bucket.delete_objects(Delete={'Objects': res})"
   ]
  },
  {
   "cell_type": "code",
   "execution_count": 29,
   "metadata": {
    "scrolled": true
   },
   "outputs": [
    {
     "data": {
      "text/plain": [
       "{'ResponseMetadata': {'RequestId': 'WXSP9TMYW7RMRY7R',\n",
       "  'HostId': 'AyJAybTP1RzCpO+Td1iko2X/erUUVcdI2NTsW3PcwwAjDUYvCcgWKK494FfCdOjKqqnetfueY9s=',\n",
       "  'HTTPStatusCode': 204,\n",
       "  'HTTPHeaders': {'x-amz-id-2': 'AyJAybTP1RzCpO+Td1iko2X/erUUVcdI2NTsW3PcwwAjDUYvCcgWKK494FfCdOjKqqnetfueY9s=',\n",
       "   'x-amz-request-id': 'WXSP9TMYW7RMRY7R',\n",
       "   'date': 'Tue, 19 Jul 2022 19:23:20 GMT',\n",
       "   'server': 'AmazonS3'},\n",
       "  'RetryAttempts': 0}}"
      ]
     },
     "execution_count": 29,
     "metadata": {},
     "output_type": "execute_result"
    }
   ],
   "source": [
    "delete_all_objects(my_bucket)\n",
    "s3.Bucket(my_bucket).delete()"
   ]
  },
  {
   "cell_type": "code",
   "execution_count": null,
   "metadata": {},
   "outputs": [],
   "source": [
    "#for bucket in s3.buckets.all():\n",
    "#    delete_all_objects(bucket.name)\n",
    "#    s3.Bucket(bucket.name).delete()"
   ]
  }
 ],
 "metadata": {
  "kernelspec": {
   "display_name": "Python 3 (ipykernel)",
   "language": "python",
   "name": "python3"
  },
  "language_info": {
   "codemirror_mode": {
    "name": "ipython",
    "version": 3
   },
   "file_extension": ".py",
   "mimetype": "text/x-python",
   "name": "python",
   "nbconvert_exporter": "python",
   "pygments_lexer": "ipython3",
   "version": "3.9.1"
  }
 },
 "nbformat": 4,
 "nbformat_minor": 4
}
