{
 "cells": [
  {
   "cell_type": "markdown",
   "metadata": {},
   "source": [
    "# Working with AWS DynamoDB\n",
    "\n",
    "\n",
    "## Purpose\n",
    "This notebook is desinged for AWS developers to play around and explore different ways to interact with AWS DynamoDB.\n"
   ]
  },
  {
   "cell_type": "markdown",
   "metadata": {},
   "source": [
    "# Setup\n",
    "\n",
    "## Import Libraries\n",
    "We import all the required Python libraries."
   ]
  },
  {
   "cell_type": "code",
   "execution_count": 1,
   "metadata": {},
   "outputs": [],
   "source": [
    "import boto3\n",
    "from botocore.exceptions import ClientError\n",
    "import json\n",
    "import decimal"
   ]
  },
  {
   "cell_type": "code",
   "execution_count": 2,
   "metadata": {},
   "outputs": [
    {
     "data": {
      "text/plain": [
       "'1.22.9'"
      ]
     },
     "execution_count": 2,
     "metadata": {},
     "output_type": "execute_result"
    }
   ],
   "source": [
    "boto3.__version__"
   ]
  },
  {
   "cell_type": "code",
   "execution_count": 3,
   "metadata": {},
   "outputs": [],
   "source": [
    "#Determine which credentials(profile) to use embeded in .aws/config file.\n",
    "boto3 = boto3.session.Session(profile_name='AWS-DEMO')"
   ]
  },
  {
   "cell_type": "markdown",
   "metadata": {},
   "source": [
    "## Load DynamoDB in us-west-2 region"
   ]
  },
  {
   "cell_type": "code",
   "execution_count": 4,
   "metadata": {},
   "outputs": [],
   "source": [
    "dynamodb = boto3.resource('dynamodb', region_name='us-west-2')"
   ]
  },
  {
   "cell_type": "markdown",
   "metadata": {},
   "source": [
    "## Create a table named Movies. \n"
   ]
  },
  {
   "cell_type": "code",
   "execution_count": 5,
   "metadata": {},
   "outputs": [
    {
     "name": "stdout",
     "output_type": "stream",
     "text": [
      "0\n"
     ]
    }
   ],
   "source": [
    "# Create a table named Movies\n",
    "table = dynamodb.create_table(\n",
    "        TableName='Movies',\n",
    "        KeySchema=[\n",
    "            {\n",
    "                'AttributeName': 'year',\n",
    "                'KeyType': 'HASH'  #Partition key\n",
    "            },\n",
    "            {\n",
    "                'AttributeName': 'title',\n",
    "                'KeyType': 'RANGE'  #Sort key\n",
    "            }\n",
    "        ],\n",
    "        AttributeDefinitions=[\n",
    "            {\n",
    "                'AttributeName': 'year',\n",
    "                'AttributeType': 'N'\n",
    "            },\n",
    "            {\n",
    "                'AttributeName': 'title', \n",
    "                'AttributeType':'S'\n",
    "            },\n",
    "\n",
    "        ],\n",
    "        ProvisionedThroughput={\n",
    "            'ReadCapacityUnits': 10,\n",
    "            'WriteCapacityUnits': 10\n",
    "        }\n",
    "    )\n",
    "\n",
    "# Wait until the table exists.\n",
    "table.meta.client.get_waiter('table_exists').wait(TableName='Movies')\n",
    "\n",
    "# Print out some data about the table.\n",
    "print(table.item_count)"
   ]
  },
  {
   "cell_type": "markdown",
   "metadata": {},
   "source": [
    "## List the tables\n"
   ]
  },
  {
   "cell_type": "code",
   "execution_count": 6,
   "metadata": {
    "scrolled": true
   },
   "outputs": [
    {
     "data": {
      "text/plain": [
       "{'TableNames': ['Movies', 'Notes'],\n",
       " 'ResponseMetadata': {'RequestId': 'IKF91F79SKP16J91Q6F0TT4S67VV4KQNSO5AEMVJF66Q9ASUAAJG',\n",
       "  'HTTPStatusCode': 200,\n",
       "  'HTTPHeaders': {'server': 'Server',\n",
       "   'date': 'Wed, 20 Jul 2022 14:42:50 GMT',\n",
       "   'content-type': 'application/x-amz-json-1.0',\n",
       "   'content-length': '33',\n",
       "   'connection': 'keep-alive',\n",
       "   'x-amzn-requestid': 'IKF91F79SKP16J91Q6F0TT4S67VV4KQNSO5AEMVJF66Q9ASUAAJG',\n",
       "   'x-amz-crc32': '3013821024'},\n",
       "  'RetryAttempts': 0}}"
      ]
     },
     "execution_count": 6,
     "metadata": {},
     "output_type": "execute_result"
    }
   ],
   "source": [
    "dynamodb.meta.client.list_tables()"
   ]
  },
  {
   "cell_type": "markdown",
   "metadata": {},
   "source": [
    "## Load a Sample Data\n",
    "\n",
    "- Download a sample data file that contains information about a few thousand movies from the Internet Movie Database (IMDb). The movie data is in JSON format, as shown in the following example. For each movie, there is a year, a title, and a JSON map named info.\n"
   ]
  },
  {
   "cell_type": "code",
   "execution_count": null,
   "metadata": {},
   "outputs": [],
   "source": [
    "#!wget https://docs.aws.amazon.com/amazondynamodb/latest/developerguide/samples/moviedata.zip"
   ]
  },
  {
   "cell_type": "markdown",
   "metadata": {},
   "source": [
    "- unzip the zip file"
   ]
  },
  {
   "cell_type": "code",
   "execution_count": null,
   "metadata": {},
   "outputs": [],
   "source": [
    "#!unzip moviedata.zip"
   ]
  },
  {
   "cell_type": "markdown",
   "metadata": {},
   "source": [
    "- Load the json file into the \"Movies\" table. There are thousands of movies in this file, this could take a while :)"
   ]
  },
  {
   "cell_type": "code",
   "execution_count": 7,
   "metadata": {},
   "outputs": [
    {
     "name": "stdout",
     "output_type": "stream",
     "text": [
      "Adding movie: 2013 Rush\n",
      "Adding movie: 2013 Prisoners\n",
      "Adding movie: 2013 The Hunger Games: Catching Fire\n",
      "Adding movie: 2013 Thor: The Dark World\n",
      "Adding movie: 2013 This Is the End\n",
      "Adding movie: 2013 Insidious: Chapter 2\n",
      "Adding movie: 2013 World War Z\n",
      "Adding movie: 2014 X-Men: Days of Future Past\n",
      "Adding movie: 2014 Transformers: Age of Extinction\n",
      "Adding movie: 2013 Now You See Me\n",
      "Adding movie: 2013 Gravity\n",
      "Adding movie: 2013 We're the Millers\n",
      "Adding movie: 2013 Riddick\n",
      "Adding movie: 2013 The Family\n",
      "Adding movie: 2013 Star Trek Into Darkness\n",
      "Adding movie: 2013 After Earth\n",
      "Adding movie: 2013 The Great Gatsby\n",
      "Adding movie: 2014 Divergent\n",
      "Adding movie: 2013 We Are What We Are\n",
      "Adding movie: 2013 Iron Man 3\n"
     ]
    }
   ],
   "source": [
    "table = dynamodb.Table('Movies')\n",
    "\n",
    "with open(\"moviedata.json\") as json_file:\n",
    "    movies = json.load(json_file, parse_float = decimal.Decimal)\n",
    "    for movie in movies[:20]: # Iterate over the first 20 movies. There are more than 4000 movies.\n",
    "        year = int(movie['year'])\n",
    "        title = movie['title']\n",
    "        info = movie['info']\n",
    "\n",
    "        print(\"Adding movie:\", year, title)\n",
    "\n",
    "        table.put_item(\n",
    "           Item={\n",
    "               'year': year,\n",
    "               'title': title,\n",
    "               'info': info,\n",
    "            }\n",
    "        )"
   ]
  },
  {
   "cell_type": "markdown",
   "metadata": {},
   "source": [
    "## Create a new item"
   ]
  },
  {
   "cell_type": "code",
   "execution_count": 8,
   "metadata": {},
   "outputs": [],
   "source": [
    "# Helper class to convert a DynamoDB item to JSON.\n",
    "class DecimalEncoder(json.JSONEncoder):\n",
    "    def default(self, o):\n",
    "        if isinstance(o, decimal.Decimal):\n",
    "            if abs(o) % 1 > 0:\n",
    "                return float(o)\n",
    "            else:\n",
    "                return int(o)\n",
    "        return super(DecimalEncoder, self).default(o)"
   ]
  },
  {
   "cell_type": "code",
   "execution_count": 9,
   "metadata": {},
   "outputs": [
    {
     "name": "stdout",
     "output_type": "stream",
     "text": [
      "PutItem succeeded:\n",
      "{\n",
      "    \"ResponseMetadata\": {\n",
      "        \"RequestId\": \"B156KAR7R3I28VDPDNDSHVTF5JVV4KQNSO5AEMVJF66Q9ASUAAJG\",\n",
      "        \"HTTPStatusCode\": 200,\n",
      "        \"HTTPHeaders\": {\n",
      "            \"server\": \"Server\",\n",
      "            \"date\": \"Wed, 20 Jul 2022 14:44:29 GMT\",\n",
      "            \"content-type\": \"application/x-amz-json-1.0\",\n",
      "            \"content-length\": \"2\",\n",
      "            \"connection\": \"keep-alive\",\n",
      "            \"x-amzn-requestid\": \"B156KAR7R3I28VDPDNDSHVTF5JVV4KQNSO5AEMVJF66Q9ASUAAJG\",\n",
      "            \"x-amz-crc32\": \"2745614147\"\n",
      "        },\n",
      "        \"RetryAttempts\": 0\n",
      "    }\n",
      "}\n"
     ]
    }
   ],
   "source": [
    "table = dynamodb.Table('Movies')\n",
    "\n",
    "\n",
    "title = \"The Big New Movie\"\n",
    "year = 2015\n",
    "\n",
    "response = table.put_item(\n",
    "   Item={\n",
    "        'year': year,\n",
    "        'title': title,\n",
    "        'info': {\n",
    "            'plot':\"Nothing happens at all.\",\n",
    "            'rating': decimal.Decimal(0)\n",
    "        }\n",
    "    }\n",
    ")\n",
    "\n",
    "print(\"PutItem succeeded:\")\n",
    "print(json.dumps(response, indent=4, cls=DecimalEncoder))\n"
   ]
  },
  {
   "cell_type": "markdown",
   "metadata": {},
   "source": [
    "## Read an Item"
   ]
  },
  {
   "cell_type": "code",
   "execution_count": 10,
   "metadata": {},
   "outputs": [
    {
     "name": "stdout",
     "output_type": "stream",
     "text": [
      "GetItem succeeded:\n",
      "{\n",
      "    \"year\": 2015,\n",
      "    \"info\": {\n",
      "        \"rating\": 0,\n",
      "        \"plot\": \"Nothing happens at all.\"\n",
      "    },\n",
      "    \"title\": \"The Big New Movie\"\n",
      "}\n"
     ]
    }
   ],
   "source": [
    "table = dynamodb.Table('Movies')\n",
    "\n",
    "title = \"The Big New Movie\"\n",
    "year = 2015\n",
    "\n",
    "try:\n",
    "    response = table.get_item(\n",
    "        Key={\n",
    "            'year': year,\n",
    "            'title': title\n",
    "        }\n",
    "    )\n",
    "except ClientError as err:\n",
    "    print(err.response['Error']['Message'])\n",
    "else:\n",
    "    item = response['Item']\n",
    "    print(\"GetItem succeeded:\")\n",
    "    print(json.dumps(item, indent=4, cls=DecimalEncoder))"
   ]
  },
  {
   "cell_type": "markdown",
   "metadata": {},
   "source": [
    "## Update an Item"
   ]
  },
  {
   "cell_type": "code",
   "execution_count": 11,
   "metadata": {},
   "outputs": [
    {
     "name": "stdout",
     "output_type": "stream",
     "text": [
      "UpdateItem succeeded:\n",
      "{\n",
      "    \"Attributes\": {\n",
      "        \"info\": {\n",
      "            \"actors\": [\n",
      "                \"Larry\",\n",
      "                \"Moe\",\n",
      "                \"Curly\"\n",
      "            ],\n",
      "            \"plot\": \"Everything happens all at once.\",\n",
      "            \"rating\": 5.5\n",
      "        }\n",
      "    },\n",
      "    \"ResponseMetadata\": {\n",
      "        \"RequestId\": \"DFJL1569CMQ12B4ISUVIQS4NO7VV4KQNSO5AEMVJF66Q9ASUAAJG\",\n",
      "        \"HTTPStatusCode\": 200,\n",
      "        \"HTTPHeaders\": {\n",
      "            \"server\": \"Server\",\n",
      "            \"date\": \"Wed, 20 Jul 2022 14:45:09 GMT\",\n",
      "            \"content-type\": \"application/x-amz-json-1.0\",\n",
      "            \"content-length\": \"156\",\n",
      "            \"connection\": \"keep-alive\",\n",
      "            \"x-amzn-requestid\": \"DFJL1569CMQ12B4ISUVIQS4NO7VV4KQNSO5AEMVJF66Q9ASUAAJG\",\n",
      "            \"x-amz-crc32\": \"3767510606\"\n",
      "        },\n",
      "        \"RetryAttempts\": 0\n",
      "    }\n",
      "}\n"
     ]
    }
   ],
   "source": [
    "table = dynamodb.Table('Movies')\n",
    "\n",
    "title = \"The Big New Movie\"\n",
    "year = 2015\n",
    "\n",
    "response = table.update_item(\n",
    "    Key={\n",
    "        'year': year,\n",
    "        'title': title\n",
    "    },\n",
    "    UpdateExpression=\"set info.rating=:r, info.plot=:p, info.actors=:a\",\n",
    "    ExpressionAttributeValues={\n",
    "        ':r': decimal.Decimal(5.5),\n",
    "        ':p': \"Everything happens all at once.\",\n",
    "        ':a': [\"Larry\", \"Moe\", \"Curly\"]\n",
    "    },\n",
    "    ReturnValues=\"UPDATED_NEW\"\n",
    ")\n",
    "\n",
    "print(\"UpdateItem succeeded:\")\n",
    "print(json.dumps(response, indent=4, cls=DecimalEncoder))"
   ]
  },
  {
   "cell_type": "markdown",
   "metadata": {},
   "source": [
    "## Conditional delete"
   ]
  },
  {
   "cell_type": "code",
   "execution_count": 12,
   "metadata": {},
   "outputs": [
    {
     "name": "stdout",
     "output_type": "stream",
     "text": [
      "Attempting a conditional delete...\n",
      "DeleteItem succeeded:\n",
      "{\n",
      "    \"ResponseMetadata\": {\n",
      "        \"RequestId\": \"ANE1PQPM87IJ48GHES3JSIN937VV4KQNSO5AEMVJF66Q9ASUAAJG\",\n",
      "        \"HTTPStatusCode\": 200,\n",
      "        \"HTTPHeaders\": {\n",
      "            \"server\": \"Server\",\n",
      "            \"date\": \"Wed, 20 Jul 2022 14:46:12 GMT\",\n",
      "            \"content-type\": \"application/x-amz-json-1.0\",\n",
      "            \"content-length\": \"2\",\n",
      "            \"connection\": \"keep-alive\",\n",
      "            \"x-amzn-requestid\": \"ANE1PQPM87IJ48GHES3JSIN937VV4KQNSO5AEMVJF66Q9ASUAAJG\",\n",
      "            \"x-amz-crc32\": \"2745614147\"\n",
      "        },\n",
      "        \"RetryAttempts\": 0\n",
      "    }\n",
      "}\n"
     ]
    }
   ],
   "source": [
    "table = dynamodb.Table('Movies')\n",
    "\n",
    "title = \"The Big New Movie\"\n",
    "year = 2015\n",
    "\n",
    "print(\"Attempting a conditional delete...\")\n",
    "\n",
    "try:\n",
    "    response = table.delete_item(\n",
    "        Key={\n",
    "            'year': year,\n",
    "            'title': title\n",
    "        },\n",
    "        ConditionExpression=\"info.rating <= :val\",\n",
    "        ExpressionAttributeValues= {\n",
    "            \":val\": decimal.Decimal(6)\n",
    "        }\n",
    "    )\n",
    "except ClientError as e:\n",
    "    if e.response['Error']['Code'] == \"ConditionalCheckFailedException\":\n",
    "        print(e.response['Error']['Message'])\n",
    "    else:\n",
    "        raise\n",
    "else:\n",
    "    print(\"DeleteItem succeeded:\")\n",
    "    print(json.dumps(response, indent=4, cls=DecimalEncoder))"
   ]
  },
  {
   "cell_type": "markdown",
   "metadata": {},
   "source": [
    "## Query - All Movies Released in a Year"
   ]
  },
  {
   "cell_type": "code",
   "execution_count": 13,
   "metadata": {},
   "outputs": [
    {
     "name": "stdout",
     "output_type": "stream",
     "text": [
      "Movies from 2013\n",
      "2013 : After Earth\n",
      "2013 : Gravity\n",
      "2013 : Insidious: Chapter 2\n",
      "2013 : Iron Man 3\n",
      "2013 : Now You See Me\n",
      "2013 : Prisoners\n",
      "2013 : Riddick\n",
      "2013 : Rush\n",
      "2013 : Star Trek Into Darkness\n",
      "2013 : The Family\n",
      "2013 : The Great Gatsby\n",
      "2013 : The Hunger Games: Catching Fire\n",
      "2013 : This Is the End\n",
      "2013 : Thor: The Dark World\n",
      "2013 : We Are What We Are\n",
      "2013 : We're the Millers\n",
      "2013 : World War Z\n"
     ]
    }
   ],
   "source": [
    "from boto3.dynamodb.conditions import Key, Attr\n",
    "\n",
    "table = dynamodb.Table('Movies')\n",
    "\n",
    "print(\"Movies from 2013\")\n",
    "\n",
    "response = table.query(\n",
    "    KeyConditionExpression=Key('year').eq(2013)\n",
    ")\n",
    "\n",
    "for i in response['Items']:\n",
    "    print(i['year'], \":\", i['title'])"
   ]
  },
  {
   "cell_type": "markdown",
   "metadata": {},
   "source": [
    "## Query - All Movies Released in a Year with Certain Titles"
   ]
  },
  {
   "cell_type": "code",
   "execution_count": 14,
   "metadata": {},
   "outputs": [
    {
     "name": "stdout",
     "output_type": "stream",
     "text": [
      "Movies from 2013 - titles A-P, with genres and lead actor\n",
      "{\n",
      "    \"info\": {\n",
      "        \"actors\": [\n",
      "            \"Jaden Smith\"\n",
      "        ],\n",
      "        \"genres\": [\n",
      "            \"Action\",\n",
      "            \"Adventure\",\n",
      "            \"Sci-Fi\"\n",
      "        ]\n",
      "    },\n",
      "    \"year\": 2013,\n",
      "    \"title\": \"After Earth\"\n",
      "}\n",
      "{\n",
      "    \"info\": {\n",
      "        \"actors\": [\n",
      "            \"Sandra Bullock\"\n",
      "        ],\n",
      "        \"genres\": [\n",
      "            \"Drama\",\n",
      "            \"Sci-Fi\",\n",
      "            \"Thriller\"\n",
      "        ]\n",
      "    },\n",
      "    \"year\": 2013,\n",
      "    \"title\": \"Gravity\"\n",
      "}\n",
      "{\n",
      "    \"info\": {\n",
      "        \"actors\": [\n",
      "            \"Patrick Wilson\"\n",
      "        ],\n",
      "        \"genres\": [\n",
      "            \"Horror\",\n",
      "            \"Thriller\"\n",
      "        ]\n",
      "    },\n",
      "    \"year\": 2013,\n",
      "    \"title\": \"Insidious: Chapter 2\"\n",
      "}\n",
      "{\n",
      "    \"info\": {\n",
      "        \"actors\": [\n",
      "            \"Robert Downey Jr.\"\n",
      "        ],\n",
      "        \"genres\": [\n",
      "            \"Action\",\n",
      "            \"Adventure\",\n",
      "            \"Sci-Fi\"\n",
      "        ]\n",
      "    },\n",
      "    \"year\": 2013,\n",
      "    \"title\": \"Iron Man 3\"\n",
      "}\n",
      "{\n",
      "    \"info\": {\n",
      "        \"actors\": [\n",
      "            \"Jesse Eisenberg\"\n",
      "        ],\n",
      "        \"genres\": [\n",
      "            \"Crime\",\n",
      "            \"Mystery\",\n",
      "            \"Thriller\"\n",
      "        ]\n",
      "    },\n",
      "    \"year\": 2013,\n",
      "    \"title\": \"Now You See Me\"\n",
      "}\n"
     ]
    }
   ],
   "source": [
    "table = dynamodb.Table('Movies')\n",
    "\n",
    "print(\"Movies from 2013 - titles A-P, with genres and lead actor\")\n",
    "\n",
    "response = table.query(\n",
    "    ProjectionExpression=\"#yr, title, info.genres, info.actors[0]\",\n",
    "    ExpressionAttributeNames={ \"#yr\": \"year\" }, # Expression Attribute Names for Projection Expression only.\n",
    "    KeyConditionExpression=Key('year').eq(2013) & Key('title').between('A', 'P')\n",
    ")\n",
    "\n",
    "for i in response[u'Items']:\n",
    "    print(json.dumps(i, indent=4, cls=DecimalEncoder))"
   ]
  },
  {
   "cell_type": "markdown",
   "metadata": {},
   "source": [
    "## Scan\n",
    "\n",
    "The following program scans the entire Movies table, which contains approximately 5,000 items. The scan specifies the optional filter to retrieve only the movies from the 2010s and discard all the others."
   ]
  },
  {
   "cell_type": "code",
   "execution_count": 15,
   "metadata": {},
   "outputs": [
    {
     "name": "stdout",
     "output_type": "stream",
     "text": [
      "{\"info\": {\"rating\": 4.9}, \"year\": 2013, \"title\": \"After Earth\"}\n",
      "{\"info\": {\"rating\": 8.2}, \"year\": 2013, \"title\": \"Gravity\"}\n",
      "{\"info\": {\"rating\": 7.1}, \"year\": 2013, \"title\": \"Insidious: Chapter 2\"}\n",
      "{\"info\": {\"rating\": 7.4}, \"year\": 2013, \"title\": \"Iron Man 3\"}\n",
      "{\"info\": {\"rating\": 7.3}, \"year\": 2013, \"title\": \"Now You See Me\"}\n",
      "{\"info\": {\"rating\": 8.2}, \"year\": 2013, \"title\": \"Prisoners\"}\n",
      "{\"info\": {\"rating\": 6.8}, \"year\": 2013, \"title\": \"Riddick\"}\n",
      "{\"info\": {\"rating\": 8.3}, \"year\": 2013, \"title\": \"Rush\"}\n",
      "{\"info\": {\"rating\": 7.9}, \"year\": 2013, \"title\": \"Star Trek Into Darkness\"}\n",
      "{\"info\": {\"rating\": 6.5}, \"year\": 2013, \"title\": \"The Family\"}\n",
      "{\"info\": {\"rating\": 7.3}, \"year\": 2013, \"title\": \"The Great Gatsby\"}\n",
      "{\"year\": 2013, \"title\": \"The Hunger Games: Catching Fire\"}\n",
      "{\"info\": {\"rating\": 7.2}, \"year\": 2013, \"title\": \"This Is the End\"}\n",
      "{\"year\": 2013, \"title\": \"Thor: The Dark World\"}\n",
      "{\"info\": {\"rating\": 6.2}, \"year\": 2013, \"title\": \"We Are What We Are\"}\n",
      "{\"info\": {\"rating\": 7.2}, \"year\": 2013, \"title\": \"We're the Millers\"}\n",
      "{\"info\": {\"rating\": 7.1}, \"year\": 2013, \"title\": \"World War Z\"}\n",
      "{\"year\": 2014, \"title\": \"Divergent\"}\n",
      "{\"year\": 2014, \"title\": \"Transformers: Age of Extinction\"}\n",
      "{\"year\": 2014, \"title\": \"X-Men: Days of Future Past\"}\n"
     ]
    }
   ],
   "source": [
    "table = dynamodb.Table('Movies')\n",
    "\n",
    "fe = Key('year').between(2010, 2020)\n",
    "pe = \"#yr, title, info.rating\"\n",
    "# Expression Attribute Names for Projection Expression only.\n",
    "ean = { \"#yr\": \"year\", }\n",
    "esk = None\n",
    "\n",
    "\n",
    "response = table.scan(\n",
    "    FilterExpression=fe,\n",
    "    ProjectionExpression=pe,\n",
    "    ExpressionAttributeNames=ean\n",
    "    )\n",
    "\n",
    "for i in response['Items']:\n",
    "    print(json.dumps(i, cls=DecimalEncoder))\n",
    "\n",
    "while 'LastEvaluatedKey' in response:\n",
    "    response = table.scan(\n",
    "        ProjectionExpression=pe,\n",
    "        FilterExpression=fe,\n",
    "        ExpressionAttributeNames= ean,\n",
    "        ExclusiveStartKey=response['LastEvaluatedKey']\n",
    "        )\n",
    "\n",
    "    for i in response['Items']:\n",
    "        print(json.dumps(i, cls=DecimalEncoder))"
   ]
  },
  {
   "cell_type": "markdown",
   "metadata": {},
   "source": [
    "## DELETE THE TABLE"
   ]
  },
  {
   "cell_type": "code",
   "execution_count": 16,
   "metadata": {},
   "outputs": [
    {
     "data": {
      "text/plain": [
       "{'TableDescription': {'TableName': 'Movies',\n",
       "  'TableStatus': 'DELETING',\n",
       "  'ProvisionedThroughput': {'NumberOfDecreasesToday': 0,\n",
       "   'ReadCapacityUnits': 10,\n",
       "   'WriteCapacityUnits': 10},\n",
       "  'TableSizeBytes': 0,\n",
       "  'ItemCount': 0,\n",
       "  'TableArn': 'arn:aws:dynamodb:us-west-2:465968594676:table/Movies',\n",
       "  'TableId': '19bcd598-fc47-4284-af2f-8f7b261a74d6'},\n",
       " 'ResponseMetadata': {'RequestId': '1F117J1TJE12NCSFHF86DVSG1BVV4KQNSO5AEMVJF66Q9ASUAAJG',\n",
       "  'HTTPStatusCode': 200,\n",
       "  'HTTPHeaders': {'server': 'Server',\n",
       "   'date': 'Wed, 20 Jul 2022 14:48:12 GMT',\n",
       "   'content-type': 'application/x-amz-json-1.0',\n",
       "   'content-length': '316',\n",
       "   'connection': 'keep-alive',\n",
       "   'x-amzn-requestid': '1F117J1TJE12NCSFHF86DVSG1BVV4KQNSO5AEMVJF66Q9ASUAAJG',\n",
       "   'x-amz-crc32': '52347199'},\n",
       "  'RetryAttempts': 0}}"
      ]
     },
     "execution_count": 16,
     "metadata": {},
     "output_type": "execute_result"
    }
   ],
   "source": [
    "table = dynamodb.Table('Movies')\n",
    "\n",
    "table.delete()"
   ]
  },
  {
   "cell_type": "code",
   "execution_count": null,
   "metadata": {},
   "outputs": [],
   "source": []
  }
 ],
 "metadata": {
  "kernelspec": {
   "display_name": "Python 3 (ipykernel)",
   "language": "python",
   "name": "python3"
  },
  "language_info": {
   "codemirror_mode": {
    "name": "ipython",
    "version": 3
   },
   "file_extension": ".py",
   "mimetype": "text/x-python",
   "name": "python",
   "nbconvert_exporter": "python",
   "pygments_lexer": "ipython3",
   "version": "3.9.1"
  }
 },
 "nbformat": 4,
 "nbformat_minor": 4
}
